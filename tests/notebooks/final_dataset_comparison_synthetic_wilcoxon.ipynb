{
 "cells": [
  {
   "cell_type": "code",
   "execution_count": 13,
   "metadata": {
    "pycharm": {
     "is_executing": false
    }
   },
   "outputs": [],
   "source": [
    "import glob\n",
    "import pandas as pd\n",
    "import numpy as np\n",
    "import os\n",
    "from IPython.display import HTML\n",
    "import scipy"
   ]
  },
  {
   "cell_type": "code",
   "execution_count": 14,
   "metadata": {
    "pycharm": {
     "is_executing": false
    }
   },
   "outputs": [
    {
     "name": "stdout",
     "output_type": "stream",
     "text": [
      "autotune_eval_zifa_G.sh  real_datasets_autotune_eval_last2.sh\r\n",
      "model_eval_zi_12000.sh\t sos4\r\n"
     ]
    }
   ],
   "source": [
    "!ls ../../ppc/scripts"
   ]
  },
  {
   "cell_type": "code",
   "execution_count": 15,
   "metadata": {
    "pycharm": {
     "is_executing": false
    }
   },
   "outputs": [],
   "source": [
    "\n",
    "\n",
    "data_path = '../../ppc/scripts'\n",
    "dataset_names = {'log_poisson_zifa_dataset_12000_0.08_{}'.format(zifa_lambda):\n",
    "                 '$\\lambda = {}$'.format(str(zifa_lambda).rstrip('0').rstrip('.'))\n",
    "                 for zifa_lambda in [0., 1e-3, 1e-2, 1e-1, 1.0, 10.0]}\n",
    "data_files = {}\n",
    "data_names = {}\n",
    "for dataset_name in dataset_names:\n",
    "    data_files[dataset_name] = sorted(glob.glob(os.path.join(data_path, '{}/*.p'.format(dataset_name))))\n",
    "    data_names[dataset_name] = []\n",
    "    for data_file in data_files[dataset_name]:\n",
    "        data_name = data_file.split('/')[-1].split('_')[0]\n",
    "        data_names[dataset_name].append(data_name)\n",
    "\n",
    "for dataset_name in list(dataset_names.keys()):\n",
    "    if len(data_names[dataset_name]) != 2:\n",
    "        del dataset_names[dataset_name]\n",
    "        del data_files[dataset_name]\n",
    "        del data_names[dataset_name]"
   ]
  },
  {
   "cell_type": "code",
   "execution_count": 16,
   "metadata": {},
   "outputs": [
    {
     "data": {
      "text/plain": [
       "{}"
      ]
     },
     "execution_count": 16,
     "metadata": {},
     "output_type": "execute_result"
    }
   ],
   "source": [
    "dataset_names"
   ]
  },
  {
   "cell_type": "code",
   "execution_count": 17,
   "metadata": {
    "scrolled": true
   },
   "outputs": [
    {
     "data": {
      "text/plain": [
       "{}"
      ]
     },
     "execution_count": 17,
     "metadata": {},
     "output_type": "execute_result"
    }
   ],
   "source": [
    "data_names"
   ]
  },
  {
   "cell_type": "code",
   "execution_count": 18,
   "metadata": {
    "pycharm": {
     "is_executing": false
    }
   },
   "outputs": [],
   "source": [
    "df = {}\n",
    "for dataset_name in dataset_names:\n",
    "    dfs = []\n",
    "    for data_name, f in zip(data_names[dataset_name], data_files[dataset_name]):\n",
    "        if data_name != 'zifa_full':\n",
    "\n",
    "            #my_df = pd.read_csv(f, sep='\\t')\n",
    "            my_df = pd.read_pickle(f)\n",
    "            my_df.loc[:, 'model'] = data_name\n",
    "            dfs.append(my_df)\n",
    "            print(data_name, f)\n",
    "    #         display(my_df)\n",
    "    df[dataset_name] = pd.concat(dfs, axis=0)"
   ]
  },
  {
   "cell_type": "code",
   "execution_count": 19,
   "metadata": {
    "pycharm": {
     "is_executing": false
    }
   },
   "outputs": [],
   "source": [
    "from statsmodels.stats.weightstats import ttest_ind\n",
    "\n",
    "metrics = ['ll_ll', 't_dropout_ks_stat', 't_ratio_ks_stat', 't_cv_ks_stat']\n",
    "\n",
    "h1_hypothesis = ['greater', 'greater', 'greater', 'greater']\n",
    "\n",
    "\n",
    "df_summary = {}\n",
    "\n",
    "n_to_keep = 100\n",
    "\n",
    "for dataset_name in dataset_names:\n",
    "\n",
    "    df_nb = df[dataset_name].loc[df[dataset_name].model=='nb', metrics].sort_values(by='ll_ll').iloc[:n_to_keep,:]\n",
    "    df_zinb = df[dataset_name].loc[df[dataset_name].model=='zinb', metrics].sort_values(by='ll_ll').iloc[:n_to_keep,:]\n",
    "    \n",
    "    df_nb_2 = df_nb.copy()\n",
    "    df_nb_2['model'] = 'nb'\n",
    "    df_zinb_2 = df_zinb.copy()\n",
    "    df_zinb_2['model'] = 'zinb'\n",
    "    df_new = pd.concat([df_nb_2, df_zinb_2])\n",
    "    \n",
    "    print(\"Shapes\")\n",
    "    print(df_nb.shape)\n",
    "    print(df_zinb.shape)\n",
    "    print(df_new.shape)\n",
    "    print(df_new)\n",
    "\n",
    "    def get_pvals(gby, other_df):\n",
    "        my_df = gby[metrics]\n",
    "        print(gby)\n",
    "        assert my_df.shape[1] == len(metrics)\n",
    "        assert other_df.shape[1] == len(metrics)\n",
    "        pvals = []\n",
    "        for idx, alternative in enumerate(h1_hypothesis):\n",
    "            assert len(other_df.values[:, idx]) != len(h1_hypothesis), (len(other_df.values[:, idx]), len(h1_hypothesis))\n",
    "            #_, pval, _ = ttest_ind(other_df.values[:, idx], my_df.values[:, idx], alternative=alternative)\n",
    "            try:\n",
    "                _, pval = scipy.stats.mannwhitneyu(np.sort(other_df.values[:, idx])[:n_to_keep],\n",
    "                                       np.sort(my_df.values[:, idx])[:n_to_keep][::-1],\n",
    "                                       use_continuity=True,\n",
    "                                       alternative=alternative)\n",
    "            except ValueError:\n",
    "                pval = 0.5\n",
    "            \n",
    "            pvals.append(pval)\n",
    "        return np.array(pvals)\n",
    "\n",
    "    pvals_against_zinb = df_new.groupby('model').apply(get_pvals, other_df=df_zinb)\n",
    "    pvals_against_zinb = (pvals_against_zinb\n",
    "             .apply(lambda x: pd.Series(x))\n",
    "             .T)\n",
    "    pvals_against_zinb = pvals_against_zinb.rename(index={idx: met for (idx,met) in enumerate(metrics)})\n",
    "\n",
    "    pvals_against_nb = df_new.groupby('model').apply(get_pvals, other_df=df_nb)\n",
    "    pvals_against_nb = (pvals_against_nb\n",
    "             .apply(lambda x: pd.Series(x))\n",
    "             .T)\n",
    "    pvals_against_nb = pvals_against_nb.rename(index={idx: met for (idx,met) in enumerate(metrics)})\n",
    "\n",
    "    def get_summary(gby):\n",
    "        res = {}\n",
    "        res['median'] = gby.median()\n",
    "        res['pvals_against_nb'] = pvals_against_nb[gby.name]\n",
    "        res['pvals_against_zi'] = pvals_against_zinb[gby.name]\n",
    "        return pd.DataFrame(res).T\n",
    "\n",
    "    # df_summary = df.groupby('model')['ll_ll', 'imputation_median_imputation_score', 't_dropout_ks_stat',\n",
    "    #                                  't_ratio_ks_stat', 't_cv_ks_stat'].agg(['mean', 'std']).T\n",
    "    df_summary[dataset_name] = df[dataset_name].groupby('model')[metrics].apply(get_summary)\n",
    "\n",
    "\n",
    "    df_summary[dataset_name] = df_summary[dataset_name].stack().unstack(1).sort_index(level=1).swaplevel()"
   ]
  },
  {
   "cell_type": "markdown",
   "metadata": {
    "pycharm": {}
   },
   "source": [
    "# Export to Latex"
   ]
  },
  {
   "cell_type": "code",
   "execution_count": 20,
   "metadata": {},
   "outputs": [],
   "source": [
    "def boldizer(row):\n",
    "    to_bold = (row.pvals_against_nb <= 5e-2) | (row.pvals_against_zi <= 5e-2)\n",
    "#     print(to_bold)\n",
    "    if to_bold:\n",
    "        row.latex = '\\mathbf{' + row.latex + '}'\n",
    "    return row"
   ]
  },
  {
   "cell_type": "code",
   "execution_count": 9,
   "metadata": {},
   "outputs": [],
   "source": [
    "n_dec = 3\n",
    "\n",
    "work_df = {}\n",
    "\n",
    "for dataset_name in dataset_names:\n",
    "\n",
    "    work_df[dataset_name] = (df_summary[dataset_name]\n",
    "               .reset_index(level=-1)\n",
    "               .reset_index()\n",
    "               .assign(latex=lambda x: x['median'].round(n_dec).astype(str))\n",
    "               .apply(boldizer, axis=1)\n",
    "               .assign(Metric=lambda x: \n",
    "                       x.loc[:, 'index'].replace({\n",
    "                           'll_ll': 'Negative LL',\n",
    "                           't_cv_ks_stat': 'Coefficient of variation',\n",
    "                           't_dropout_ks_stat': 'Dropout ratio',\n",
    "                           't_ratio_ks_stat': 'Zeros-to-expression ratio',\n",
    "                           'model': 'Model'\n",
    "               }),\n",
    "                       latex=lambda x: '$' + x.latex + '$'\n",
    "                      )\n",
    "              )\n",
    "\n",
    "    work_df[dataset_name] = work_df[dataset_name].rename(columns={'model': 'Model', 'index': 'metric',\n",
    "                                                                 'Metric': 'Metric (medians)'})\n",
    "    work_df[dataset_name]['Model'] = work_df[dataset_name]['Model'].str.upper()\n",
    "    #work_df[dataset_name]['Dataset'] = dataset_names[dataset_name]\n",
    "    "
   ]
  },
  {
   "cell_type": "code",
   "execution_count": 10,
   "metadata": {},
   "outputs": [
    {
     "ename": "ValueError",
     "evalue": "No objects to concatenate",
     "output_type": "error",
     "traceback": [
      "\u001b[0;31m---------------------------------------------------------------------------\u001b[0m",
      "\u001b[0;31mValueError\u001b[0m                                Traceback (most recent call last)",
      "\u001b[0;32m<ipython-input-10-66c8d7c66087>\u001b[0m in \u001b[0;36m<module>\u001b[0;34m\u001b[0m\n\u001b[1;32m      5\u001b[0m     \u001b[0mpivot\u001b[0m\u001b[0;34m[\u001b[0m\u001b[0mdataset_name\u001b[0m\u001b[0;34m]\u001b[0m\u001b[0;34m.\u001b[0m\u001b[0mreset_index\u001b[0m\u001b[0;34m(\u001b[0m\u001b[0minplace\u001b[0m\u001b[0;34m=\u001b[0m\u001b[0;32mTrue\u001b[0m\u001b[0;34m)\u001b[0m\u001b[0;34m\u001b[0m\u001b[0;34m\u001b[0m\u001b[0m\n\u001b[1;32m      6\u001b[0m     \u001b[0mpivot\u001b[0m\u001b[0;34m[\u001b[0m\u001b[0mdataset_name\u001b[0m\u001b[0;34m]\u001b[0m\u001b[0;34m.\u001b[0m\u001b[0mset_index\u001b[0m\u001b[0;34m(\u001b[0m\u001b[0;34m[\u001b[0m\u001b[0;34m'Dataset'\u001b[0m\u001b[0;34m,\u001b[0m \u001b[0;34m'Metric (medians)'\u001b[0m\u001b[0;34m]\u001b[0m\u001b[0;34m,\u001b[0m \u001b[0minplace\u001b[0m\u001b[0;34m=\u001b[0m\u001b[0;32mTrue\u001b[0m\u001b[0;34m)\u001b[0m\u001b[0;34m\u001b[0m\u001b[0;34m\u001b[0m\u001b[0m\n\u001b[0;32m----> 7\u001b[0;31m \u001b[0mpivot\u001b[0m \u001b[0;34m=\u001b[0m \u001b[0mpd\u001b[0m\u001b[0;34m.\u001b[0m\u001b[0mconcat\u001b[0m\u001b[0;34m(\u001b[0m\u001b[0mlist\u001b[0m\u001b[0;34m(\u001b[0m\u001b[0mpivot\u001b[0m\u001b[0;34m.\u001b[0m\u001b[0mvalues\u001b[0m\u001b[0;34m(\u001b[0m\u001b[0;34m)\u001b[0m\u001b[0;34m)\u001b[0m\u001b[0;34m,\u001b[0m \u001b[0maxis\u001b[0m\u001b[0;34m=\u001b[0m\u001b[0;36m0\u001b[0m\u001b[0;34m)\u001b[0m\u001b[0;34m\u001b[0m\u001b[0;34m\u001b[0m\u001b[0m\n\u001b[0m",
      "\u001b[0;32m~/miniconda3/envs/scvienv/lib/python3.7/site-packages/pandas-0.24.2-py3.7-linux-x86_64.egg/pandas/core/reshape/concat.py\u001b[0m in \u001b[0;36mconcat\u001b[0;34m(objs, axis, join, join_axes, ignore_index, keys, levels, names, verify_integrity, sort, copy)\u001b[0m\n\u001b[1;32m    226\u001b[0m                        \u001b[0mkeys\u001b[0m\u001b[0;34m=\u001b[0m\u001b[0mkeys\u001b[0m\u001b[0;34m,\u001b[0m \u001b[0mlevels\u001b[0m\u001b[0;34m=\u001b[0m\u001b[0mlevels\u001b[0m\u001b[0;34m,\u001b[0m \u001b[0mnames\u001b[0m\u001b[0;34m=\u001b[0m\u001b[0mnames\u001b[0m\u001b[0;34m,\u001b[0m\u001b[0;34m\u001b[0m\u001b[0;34m\u001b[0m\u001b[0m\n\u001b[1;32m    227\u001b[0m                        \u001b[0mverify_integrity\u001b[0m\u001b[0;34m=\u001b[0m\u001b[0mverify_integrity\u001b[0m\u001b[0;34m,\u001b[0m\u001b[0;34m\u001b[0m\u001b[0;34m\u001b[0m\u001b[0m\n\u001b[0;32m--> 228\u001b[0;31m                        copy=copy, sort=sort)\n\u001b[0m\u001b[1;32m    229\u001b[0m     \u001b[0;32mreturn\u001b[0m \u001b[0mop\u001b[0m\u001b[0;34m.\u001b[0m\u001b[0mget_result\u001b[0m\u001b[0;34m(\u001b[0m\u001b[0;34m)\u001b[0m\u001b[0;34m\u001b[0m\u001b[0;34m\u001b[0m\u001b[0m\n\u001b[1;32m    230\u001b[0m \u001b[0;34m\u001b[0m\u001b[0m\n",
      "\u001b[0;32m~/miniconda3/envs/scvienv/lib/python3.7/site-packages/pandas-0.24.2-py3.7-linux-x86_64.egg/pandas/core/reshape/concat.py\u001b[0m in \u001b[0;36m__init__\u001b[0;34m(self, objs, axis, join, join_axes, keys, levels, names, ignore_index, verify_integrity, copy, sort)\u001b[0m\n\u001b[1;32m    260\u001b[0m \u001b[0;34m\u001b[0m\u001b[0m\n\u001b[1;32m    261\u001b[0m         \u001b[0;32mif\u001b[0m \u001b[0mlen\u001b[0m\u001b[0;34m(\u001b[0m\u001b[0mobjs\u001b[0m\u001b[0;34m)\u001b[0m \u001b[0;34m==\u001b[0m \u001b[0;36m0\u001b[0m\u001b[0;34m:\u001b[0m\u001b[0;34m\u001b[0m\u001b[0;34m\u001b[0m\u001b[0m\n\u001b[0;32m--> 262\u001b[0;31m             \u001b[0;32mraise\u001b[0m \u001b[0mValueError\u001b[0m\u001b[0;34m(\u001b[0m\u001b[0;34m'No objects to concatenate'\u001b[0m\u001b[0;34m)\u001b[0m\u001b[0;34m\u001b[0m\u001b[0;34m\u001b[0m\u001b[0m\n\u001b[0m\u001b[1;32m    263\u001b[0m \u001b[0;34m\u001b[0m\u001b[0m\n\u001b[1;32m    264\u001b[0m         \u001b[0;32mif\u001b[0m \u001b[0mkeys\u001b[0m \u001b[0;32mis\u001b[0m \u001b[0;32mNone\u001b[0m\u001b[0;34m:\u001b[0m\u001b[0;34m\u001b[0m\u001b[0;34m\u001b[0m\u001b[0m\n",
      "\u001b[0;31mValueError\u001b[0m: No objects to concatenate"
     ]
    }
   ],
   "source": [
    "pivot = {}\n",
    "for dataset_name in dataset_names:\n",
    "    pivot[dataset_name] = pd.pivot(work_df[dataset_name], index='Metric (medians)', values='latex', columns='Model')\n",
    "    pivot[dataset_name]['Dataset'] = dataset_names[dataset_name]\n",
    "    pivot[dataset_name].reset_index(inplace=True)\n",
    "    pivot[dataset_name].set_index(['Dataset', 'Metric (medians)'], inplace=True)\n",
    "pivot = pd.concat(list(pivot.values()), axis=0)"
   ]
  },
  {
   "cell_type": "code",
   "execution_count": 11,
   "metadata": {},
   "outputs": [
    {
     "ename": "AttributeError",
     "evalue": "'dict' object has no attribute 'info'",
     "output_type": "error",
     "traceback": [
      "\u001b[0;31m---------------------------------------------------------------------------\u001b[0m",
      "\u001b[0;31mAttributeError\u001b[0m                            Traceback (most recent call last)",
      "\u001b[0;32m<ipython-input-11-a714d4ef1ba3>\u001b[0m in \u001b[0;36m<module>\u001b[0;34m\u001b[0m\n\u001b[0;32m----> 1\u001b[0;31m \u001b[0mpivot\u001b[0m\u001b[0;34m.\u001b[0m\u001b[0minfo\u001b[0m\u001b[0;34m(\u001b[0m\u001b[0;34m)\u001b[0m\u001b[0;34m\u001b[0m\u001b[0;34m\u001b[0m\u001b[0m\n\u001b[0m",
      "\u001b[0;31mAttributeError\u001b[0m: 'dict' object has no attribute 'info'"
     ]
    }
   ],
   "source": [
    "pivot.info()"
   ]
  },
  {
   "cell_type": "code",
   "execution_count": 12,
   "metadata": {},
   "outputs": [
    {
     "ename": "AttributeError",
     "evalue": "'dict' object has no attribute 'to_latex'",
     "output_type": "error",
     "traceback": [
      "\u001b[0;31m---------------------------------------------------------------------------\u001b[0m",
      "\u001b[0;31mAttributeError\u001b[0m                            Traceback (most recent call last)",
      "\u001b[0;32m<ipython-input-12-3ea8002a9f21>\u001b[0m in \u001b[0;36m<module>\u001b[0;34m\u001b[0m\n\u001b[0;32m----> 1\u001b[0;31m \u001b[0mres\u001b[0m \u001b[0;34m=\u001b[0m \u001b[0mpivot\u001b[0m\u001b[0;34m.\u001b[0m\u001b[0mto_latex\u001b[0m\u001b[0;34m(\u001b[0m\u001b[0mescape\u001b[0m\u001b[0;34m=\u001b[0m\u001b[0;32mFalse\u001b[0m\u001b[0;34m)\u001b[0m\u001b[0;34m\u001b[0m\u001b[0;34m\u001b[0m\u001b[0m\n\u001b[0m\u001b[1;32m      2\u001b[0m \u001b[0mprint\u001b[0m\u001b[0;34m(\u001b[0m\u001b[0mres\u001b[0m\u001b[0;34m)\u001b[0m\u001b[0;34m\u001b[0m\u001b[0;34m\u001b[0m\u001b[0m\n",
      "\u001b[0;31mAttributeError\u001b[0m: 'dict' object has no attribute 'to_latex'"
     ]
    }
   ],
   "source": [
    "res = pivot.to_latex(escape=False)\n",
    "print(res)"
   ]
  },
  {
   "cell_type": "code",
   "execution_count": null,
   "metadata": {},
   "outputs": [],
   "source": []
  }
 ],
 "metadata": {
  "kernelspec": {
   "display_name": "Python 3",
   "language": "python",
   "name": "python3"
  },
  "language_info": {
   "codemirror_mode": {
    "name": "ipython",
    "version": 3
   },
   "file_extension": ".py",
   "mimetype": "text/x-python",
   "name": "python",
   "nbconvert_exporter": "python",
   "pygments_lexer": "ipython3",
   "version": "3.7.3"
  }
 },
 "nbformat": 4,
 "nbformat_minor": 2
}
